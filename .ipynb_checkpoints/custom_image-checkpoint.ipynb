{
 "cells": [
  {
   "cell_type": "markdown",
   "metadata": {},
   "source": [
    "# Creating Image"
   ]
  },
  {
   "cell_type": "code",
   "execution_count": 59,
   "metadata": {},
   "outputs": [],
   "source": [
    "import numpy\n",
    "import cv2\n",
    "cn = numpy.zeros([500 , 500  , 3])\n",
    "cn[: , :] = [0 , 0, 0 ]"
   ]
  },
  {
   "cell_type": "code",
   "execution_count": 2,
   "metadata": {},
   "outputs": [],
   "source": [
    "l=300\n",
    "for i in range(0 , 499):\n",
    "    for j in range(9):\n",
    "        cn[i , 490+j]= [255, 255, 255]\n",
    "        cn[i+1 , 0+j]= [255, 255, 255]\n",
    "\n",
    "for i in range(24 , 474):\n",
    "    for j in range(9):\n",
    "        cn[i , 465+j]= [255, 255, 255]\n",
    "        cn[i+1 , 24+j]= [255, 255, 255]\n",
    "\n",
    "for i in range(49 , 449):\n",
    "    for j in range(9):\n",
    "        cn[i , 440+j]= [255, 255, 255]\n",
    "        cn[i+1 , 49+j]= [255, 255, 255]\n",
    "\n",
    "for i in range(74 , 424):\n",
    "    for j in range(9):\n",
    "        cn[i , 415+j]= [255, 255, 255]\n",
    "        cn[i+1 , 74+j]= [255, 255, 255]\n",
    "\n",
    "for i in range(99, 399):\n",
    "    for j in range(9):\n",
    "        cn[i , 390+j]= [255, 255, 255]\n",
    "        cn[i+1 , 99+j]= [255, 255, 255]\n",
    "\n",
    "\n",
    "for i in range(124, 374):\n",
    "    for j in range(9):\n",
    "        cn[i , 365+j]= [255, 255, 255]\n",
    "        cn[i+1 , 124+j]= [255, 255, 255]\n",
    "\n",
    "for i in range(149 , 349):\n",
    "    for j in range(9):\n",
    "        cn[i , 340+j]= [255, 255, 255]\n",
    "        cn[i+1 , 149+j]= [255, 255, 255]\n",
    "\n",
    "for i in range(174 , 324):\n",
    "    for j in range(9):\n",
    "        cn[i , 315+j]= [255, 255, 255]\n",
    "        cn[i+1 , 174+j]= [255, 255, 255]\n",
    "\n",
    "for i in range(200 , 299):\n",
    "    for j in range(9):\n",
    "        cn[i , 290+j]= [255, 255, 255]\n",
    "        cn[i+1 , 200+j]= [255, 255, 255]\n",
    "\n",
    "for i in range(225 , 274):\n",
    "    for j in range(225 , 275):\n",
    "        cn[i , j ]= [255, 255 , 255]\n",
    "\n",
    "# horizontal\n",
    "\n",
    "for i in range(0 , 499):\n",
    "    for j in range(9):\n",
    "        cn[491+j, i]= [255, 255, 255]\n",
    "        cn[0+j, i]= [255, 255, 255]\n",
    "for i in range(25, 474):\n",
    "    for j in range(9):\n",
    "        cn[466+j, i]= [255, 255, 255]\n",
    "        cn[24+j, i]= [255, 255, 255]\n",
    "for i in range(50, 449):\n",
    "    for j in range(9):\n",
    "        cn[441+j, i]= [255, 255, 255]\n",
    "        cn[49+j, i]= [255, 255, 255]\n",
    "for i in range(75, 424):\n",
    "    for j in range(9):\n",
    "        cn[416+j, i]= [255, 255, 255]\n",
    "        cn[74+j, i]= [255, 255, 255]\n",
    "\n",
    "for i in range(100 , 399):\n",
    "    for j in range(9):\n",
    "        cn[391+j, i]= [255, 255, 255]\n",
    "        cn[99+j, i]= [255, 255, 255]\n",
    "for i in range(125, 374):\n",
    "    for j in range(9):\n",
    "        cn[366+j, i]= [255, 255, 255]\n",
    "        cn[124+j, i]= [255, 255, 255]\n",
    "for i in range(150 , 349):\n",
    "    for j in range(9):\n",
    "        cn[341+j, i]= [255, 255, 255]\n",
    "        cn[149+j, i]= [255, 255, 255]\n",
    "for i in range(175, 324):\n",
    "    for j in range(9):\n",
    "        cn[316+j, i]= [255, 255, 255]\n",
    "        cn[174+j, i]= [255, 255, 255]\n",
    "for i in range(200, 299):\n",
    "    for j in range(9):\n",
    "        cn[291+j, i]= [255, 255, 255]\n",
    "        cn[199+j, i]= [255, 255, 255]\n"
   ]
  },
  {
   "cell_type": "code",
   "execution_count": 4,
   "metadata": {},
   "outputs": [],
   "source": [
    "cv2.imshow(\"my photo\" , cn)\n",
    "cv2.waitKey()\n",
    "cv2.destroyAllWindows()"
   ]
  },
  {
   "cell_type": "code",
   "execution_count": 56,
   "metadata": {},
   "outputs": [
    {
     "data": {
      "text/plain": [
       "True"
      ]
     },
     "execution_count": 56,
     "metadata": {},
     "output_type": "execute_result"
    }
   ],
   "source": [
    "cv2.imwrite(\"my image.jpg\" , cn)"
   ]
  },
  {
   "cell_type": "markdown",
   "metadata": {},
   "source": [
    "# Swapping faces of two images "
   ]
  },
  {
   "cell_type": "code",
   "execution_count": 72,
   "metadata": {},
   "outputs": [],
   "source": [
    "imag1 = cv2.imread(\"imga.jpg\")"
   ]
  },
  {
   "cell_type": "code",
   "execution_count": 86,
   "metadata": {},
   "outputs": [],
   "source": [
    "cv2.imshow(\"photo\" , imag1)\n",
    "cv2.waitKey()\n",
    "cv2.destroyAllWindows()"
   ]
  },
  {
   "cell_type": "code",
   "execution_count": 91,
   "metadata": {},
   "outputs": [],
   "source": [
    "imag2 = cv2.imread(\"imgb.jpg\")"
   ]
  },
  {
   "cell_type": "code",
   "execution_count": null,
   "metadata": {},
   "outputs": [],
   "source": [
    "cv2.imshow(\"photo\" , imag2)\n",
    "cv2.waitKey()\n",
    "cv2.destroyAllWindows()"
   ]
  },
  {
   "cell_type": "code",
   "execution_count": 97,
   "metadata": {},
   "outputs": [],
   "source": [
    "imag1c = imag1[ 40:400,380:680]\n",
    "cv2.imshow(\"imag1c\" , imag1c)\n",
    "cv2.waitKey()\n",
    "cv2.destroyAllWindows()"
   ]
  },
  {
   "cell_type": "code",
   "execution_count": 93,
   "metadata": {},
   "outputs": [
    {
     "data": {
      "text/plain": [
       "(517, 688, 3)"
      ]
     },
     "execution_count": 93,
     "metadata": {},
     "output_type": "execute_result"
    }
   ],
   "source": [
    "imag2.shape"
   ]
  },
  {
   "cell_type": "code",
   "execution_count": 99,
   "metadata": {},
   "outputs": [],
   "source": [
    "imag2c = imag2[ :400,300:500]\n",
    "cv2.imshow(\"imag2c\" , imag2c)\n",
    "cv2.waitKey()\n",
    "cv2.destroyAllWindows()"
   ]
  },
  {
   "cell_type": "code",
   "execution_count": null,
   "metadata": {},
   "outputs": [],
   "source": []
  },
  {
   "cell_type": "code",
   "execution_count": null,
   "metadata": {},
   "outputs": [],
   "source": []
  },
  {
   "cell_type": "code",
   "execution_count": null,
   "metadata": {},
   "outputs": [],
   "source": []
  },
  {
   "cell_type": "code",
   "execution_count": null,
   "metadata": {},
   "outputs": [],
   "source": []
  },
  {
   "cell_type": "code",
   "execution_count": null,
   "metadata": {},
   "outputs": [],
   "source": []
  },
  {
   "cell_type": "code",
   "execution_count": null,
   "metadata": {},
   "outputs": [],
   "source": []
  },
  {
   "cell_type": "code",
   "execution_count": null,
   "metadata": {},
   "outputs": [],
   "source": []
  },
  {
   "cell_type": "code",
   "execution_count": null,
   "metadata": {},
   "outputs": [],
   "source": []
  },
  {
   "cell_type": "markdown",
   "metadata": {},
   "source": [
    "# Combining 2 photos (like collage)"
   ]
  },
  {
   "cell_type": "code",
   "execution_count": 47,
   "metadata": {},
   "outputs": [],
   "source": [
    "img1 = cv2.imread('img1.jpg')\n",
    "img2 = cv2.imread('img2.jpg')"
   ]
  },
  {
   "cell_type": "code",
   "execution_count": 48,
   "metadata": {},
   "outputs": [],
   "source": [
    "cv2.imshow(\"my photo\" , img1)\n",
    "cv2.waitKey()\n",
    "cv2.destroyAllWindows()"
   ]
  },
  {
   "cell_type": "code",
   "execution_count": 49,
   "metadata": {},
   "outputs": [],
   "source": [
    "cv2.imshow(\"my photo\" , img2)\n",
    "cv2.waitKey()\n",
    "cv2.destroyAllWindows()"
   ]
  },
  {
   "cell_type": "code",
   "execution_count": 50,
   "metadata": {},
   "outputs": [
    {
     "data": {
      "text/plain": [
       "(407, 336, 3)"
      ]
     },
     "execution_count": 50,
     "metadata": {},
     "output_type": "execute_result"
    }
   ],
   "source": [
    "img1.shape"
   ]
  },
  {
   "cell_type": "code",
   "execution_count": 51,
   "metadata": {},
   "outputs": [
    {
     "data": {
      "text/plain": [
       "(417, 323, 3)"
      ]
     },
     "execution_count": 51,
     "metadata": {},
     "output_type": "execute_result"
    }
   ],
   "source": [
    "img2.shape"
   ]
  },
  {
   "cell_type": "code",
   "execution_count": 52,
   "metadata": {},
   "outputs": [],
   "source": [
    "img1 = img1[:,:323]"
   ]
  },
  {
   "cell_type": "code",
   "execution_count": 53,
   "metadata": {},
   "outputs": [],
   "source": [
    "img2 = img2[:407, :323]"
   ]
  },
  {
   "cell_type": "code",
   "execution_count": 54,
   "metadata": {},
   "outputs": [],
   "source": [
    "merge_img = numpy.hstack((img1,img2))"
   ]
  },
  {
   "cell_type": "code",
   "execution_count": 55,
   "metadata": {},
   "outputs": [],
   "source": [
    "cv2.imshow(\"my photo\" , merge_img)\n",
    "cv2.waitKey()\n",
    "cv2.destroyAllWindows()"
   ]
  },
  {
   "cell_type": "code",
   "execution_count": null,
   "metadata": {},
   "outputs": [],
   "source": []
  }
 ],
 "metadata": {
  "kernelspec": {
   "display_name": "Python 3",
   "language": "python",
   "name": "python3"
  },
  "language_info": {
   "codemirror_mode": {
    "name": "ipython",
    "version": 3
   },
   "file_extension": ".py",
   "mimetype": "text/x-python",
   "name": "python",
   "nbconvert_exporter": "python",
   "pygments_lexer": "ipython3",
   "version": "3.8.3"
  }
 },
 "nbformat": 4,
 "nbformat_minor": 4
}
